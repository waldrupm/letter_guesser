{
 "cells": [
  {
   "cell_type": "code",
   "execution_count": 7,
   "metadata": {},
   "outputs": [],
   "source": [
    "import word_list\n",
    "import random\n",
    "from IPython.display import clear_output"
   ]
  },
  {
   "cell_type": "code",
   "execution_count": 13,
   "metadata": {},
   "outputs": [],
   "source": [
    "def word_choice():\n",
    "  word = random.choice(word_list.word_sel)\n",
    "  return word.upper()\n",
    "\n",
    "def format_word_rep(word_rep):\n",
    "    formatted_word = \" \"\n",
    "    word_list = list(word_rep)\n",
    "    return \" \".join(word_list)\n",
    "\n",
    "def display(word_rep, guesses, letters_guessed):\n",
    "    print(\"-\" * 50)\n",
    "    print(f\"your guesses left are {guesses}\")\n",
    "    print(\"Here are all the Letters you have guess\")\n",
    "    print(letters_guessed) # This should be letters_guessed\n",
    "    print(\"-\" * 50)\n",
    "    print(\"What word is this???\")\n",
    "    print(format_word_rep(word_rep))\n",
    "\n",
    "def find_positions_in_word(letter, word):\n",
    "    positions = []\n",
    "    for i in range(len(word)):\n",
    "        if word[i] == letter:\n",
    "            positions.append(i)\n",
    "    return positions\n",
    "\n",
    "def get_user_guess():\n",
    "    user_guess = input(\"What is your guess?\\n\")\n",
    "    return user_guess.upper()\n",
    "\n",
    "# starting a new game\n",
    "def game():\n",
    "  current_word = word_choice()\n",
    "  word_rep = \"_\" * len(current_word)\n",
    "  guesses = 7\n",
    "  letters_guessed = []\n",
    "  print(\"Starting a new game.\")\n",
    "  print(\"=\"*50)\n",
    "  \n",
    "  while True:\n",
    "    #show current state\n",
    "    display(word_rep, guesses, letters_guessed)\n",
    "\n",
    "    # get a letter choice\n",
    "    guess = get_user_guess()\n",
    "    clear_output()\n",
    "    # find that letter in the word\n",
    "    if guess in letters_guessed:\n",
    "        print(f\"Sorry, you've already guessed {guess}. Try again.\")\n",
    "    else:\n",
    "        letters_guessed.append(guess)\n",
    "        letter_positions = find_positions_in_word(guess, current_word)\n",
    "        if letter_positions == []:\n",
    "            guesses -= 1\n",
    "            print(f\"Sorry, {guess} is not in the word\")\n",
    "        else:\n",
    "            print(f\"Nice! There are {len(letter_positions)} {guess}'s in the word!\")\n",
    "            for i in letter_positions:\n",
    "                word_rep = word_rep[:i] + guess + word_rep[i + 1:]\n",
    "    # check for win condition\n",
    "    if not \"_\" in word_rep:\n",
    "      print(f\"You won! Good job. The word was {current_word}\")\n",
    "      break\n",
    "    # check for loss condition\n",
    "    if guesses < 1:\n",
    "        print(f\"Sorry, you lost. The word was: {current_word}\")\n",
    "        break\n"
   ]
  },
  {
   "cell_type": "code",
   "execution_count": 14,
   "metadata": {},
   "outputs": [
    {
     "name": "stdout",
     "output_type": "stream",
     "text": [
      "Sorry, H is not in the word\n",
      "Sorry, you lost. The word was: KILOBYTE\n"
     ]
    }
   ],
   "source": [
    "game()"
   ]
  }
 ],
 "metadata": {
  "kernelspec": {
   "display_name": "Python 3",
   "language": "python",
   "name": "python3"
  },
  "language_info": {
   "codemirror_mode": {
    "name": "ipython",
    "version": 3
   },
   "file_extension": ".py",
   "mimetype": "text/x-python",
   "name": "python",
   "nbconvert_exporter": "python",
   "pygments_lexer": "ipython3",
   "version": "3.7.6"
  }
 },
 "nbformat": 4,
 "nbformat_minor": 4
}
